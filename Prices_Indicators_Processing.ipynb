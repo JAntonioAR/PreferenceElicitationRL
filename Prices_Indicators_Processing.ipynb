{
 "cells": [
  {
   "cell_type": "code",
   "execution_count": 1,
   "id": "e588a79f",
   "metadata": {},
   "outputs": [],
   "source": [
    "from finrl.meta.preprocessor.yahoodownloader import YahooDownloader\n",
    "from finrl import config_tickers\n",
    "from finrl.meta.preprocessor.preprocessors import FeatureEngineer"
   ]
  },
  {
   "cell_type": "markdown",
   "id": "3a41bd2c",
   "metadata": {},
   "source": [
    "# Getting Data using FinRL"
   ]
  },
  {
   "cell_type": "code",
   "execution_count": 2,
   "id": "09c29415",
   "metadata": {},
   "outputs": [],
   "source": [
    "name = \"DOW\" # DOW or NASDAQ100\n",
    "\n",
    "type2ticker_list = {\n",
    "    \"DOW\":config_tickers.DOW_30_TICKER.remove('DOW'),\n",
    "    \"NASDAQ100\":config_tickers.NAS_100_TICKER\n",
    "}"
   ]
  },
  {
   "cell_type": "code",
   "execution_count": null,
   "id": "f17ae6a7",
   "metadata": {},
   "outputs": [],
   "source": [
    "df_raw = YahooDownloader(start_date='2009-01-01',\n",
    "                         end_date='2023-01-01',\n",
    "                         ticker_list=type2ticker_list[name]).fetch_data()\n",
    "\n",
    "df_raw.head()"
   ]
  },
  {
   "cell_type": "code",
   "execution_count": null,
   "id": "5d0d5210",
   "metadata": {},
   "outputs": [],
   "source": [
    "fe = FeatureEngineer(use_technical_indicator=True,\n",
    "                     use_turbulence=False,\n",
    "                     user_defined_feature = False)"
   ]
  },
  {
   "cell_type": "markdown",
   "id": "55c7fda4",
   "metadata": {},
   "source": [
    "# Preprocessing Data"
   ]
  },
  {
   "cell_type": "code",
   "execution_count": null,
   "id": "b9c59c8f",
   "metadata": {},
   "outputs": [],
   "source": [
    "df = fe.preprocess_data(df_raw)\n",
    "df.to_csv(f\"./Data/Prices_indicators_{name}.csv\")"
   ]
  }
 ],
 "metadata": {
  "kernelspec": {
   "display_name": ".venv",
   "language": "python",
   "name": "python3"
  },
  "language_info": {
   "codemirror_mode": {
    "name": "ipython",
    "version": 3
   },
   "file_extension": ".py",
   "mimetype": "text/x-python",
   "name": "python",
   "nbconvert_exporter": "python",
   "pygments_lexer": "ipython3",
   "version": "3.8.16"
  }
 },
 "nbformat": 4,
 "nbformat_minor": 5
}
